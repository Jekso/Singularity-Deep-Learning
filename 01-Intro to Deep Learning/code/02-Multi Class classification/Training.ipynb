{
 "cells": [
  {
   "cell_type": "code",
   "execution_count": 1,
   "metadata": {},
   "outputs": [],
   "source": [
    "import numpy as np\n",
    "import pandas as pd\n",
    "import matplotlib.pyplot as plt\n",
    "import seaborn as sns\n",
    "\n",
    "sns.set(rc={'figure.figsize': [7, 7]}, font_scale=1.2)"
   ]
  },
  {
   "cell_type": "code",
   "execution_count": 2,
   "metadata": {},
   "outputs": [
    {
     "data": {
      "text/html": [
       "<div>\n",
       "<style scoped>\n",
       "    .dataframe tbody tr th:only-of-type {\n",
       "        vertical-align: middle;\n",
       "    }\n",
       "\n",
       "    .dataframe tbody tr th {\n",
       "        vertical-align: top;\n",
       "    }\n",
       "\n",
       "    .dataframe thead th {\n",
       "        text-align: right;\n",
       "    }\n",
       "</style>\n",
       "<table border=\"1\" class=\"dataframe\">\n",
       "  <thead>\n",
       "    <tr style=\"text-align: right;\">\n",
       "      <th></th>\n",
       "      <th>sepal.length</th>\n",
       "      <th>sepal.width</th>\n",
       "      <th>petal.length</th>\n",
       "      <th>petal.width</th>\n",
       "      <th>variety</th>\n",
       "    </tr>\n",
       "  </thead>\n",
       "  <tbody>\n",
       "    <tr>\n",
       "      <th>0</th>\n",
       "      <td>5.1</td>\n",
       "      <td>3.5</td>\n",
       "      <td>1.4</td>\n",
       "      <td>0.2</td>\n",
       "      <td>Setosa</td>\n",
       "    </tr>\n",
       "    <tr>\n",
       "      <th>1</th>\n",
       "      <td>4.9</td>\n",
       "      <td>3.0</td>\n",
       "      <td>1.4</td>\n",
       "      <td>0.2</td>\n",
       "      <td>Setosa</td>\n",
       "    </tr>\n",
       "    <tr>\n",
       "      <th>2</th>\n",
       "      <td>4.7</td>\n",
       "      <td>3.2</td>\n",
       "      <td>1.3</td>\n",
       "      <td>0.2</td>\n",
       "      <td>Setosa</td>\n",
       "    </tr>\n",
       "    <tr>\n",
       "      <th>3</th>\n",
       "      <td>4.6</td>\n",
       "      <td>3.1</td>\n",
       "      <td>1.5</td>\n",
       "      <td>0.2</td>\n",
       "      <td>Setosa</td>\n",
       "    </tr>\n",
       "    <tr>\n",
       "      <th>4</th>\n",
       "      <td>5.0</td>\n",
       "      <td>3.6</td>\n",
       "      <td>1.4</td>\n",
       "      <td>0.2</td>\n",
       "      <td>Setosa</td>\n",
       "    </tr>\n",
       "    <tr>\n",
       "      <th>...</th>\n",
       "      <td>...</td>\n",
       "      <td>...</td>\n",
       "      <td>...</td>\n",
       "      <td>...</td>\n",
       "      <td>...</td>\n",
       "    </tr>\n",
       "    <tr>\n",
       "      <th>145</th>\n",
       "      <td>6.7</td>\n",
       "      <td>3.0</td>\n",
       "      <td>5.2</td>\n",
       "      <td>2.3</td>\n",
       "      <td>Virginica</td>\n",
       "    </tr>\n",
       "    <tr>\n",
       "      <th>146</th>\n",
       "      <td>6.3</td>\n",
       "      <td>2.5</td>\n",
       "      <td>5.0</td>\n",
       "      <td>1.9</td>\n",
       "      <td>Virginica</td>\n",
       "    </tr>\n",
       "    <tr>\n",
       "      <th>147</th>\n",
       "      <td>6.5</td>\n",
       "      <td>3.0</td>\n",
       "      <td>5.2</td>\n",
       "      <td>2.0</td>\n",
       "      <td>Virginica</td>\n",
       "    </tr>\n",
       "    <tr>\n",
       "      <th>148</th>\n",
       "      <td>6.2</td>\n",
       "      <td>3.4</td>\n",
       "      <td>5.4</td>\n",
       "      <td>2.3</td>\n",
       "      <td>Virginica</td>\n",
       "    </tr>\n",
       "    <tr>\n",
       "      <th>149</th>\n",
       "      <td>5.9</td>\n",
       "      <td>3.0</td>\n",
       "      <td>5.1</td>\n",
       "      <td>1.8</td>\n",
       "      <td>Virginica</td>\n",
       "    </tr>\n",
       "  </tbody>\n",
       "</table>\n",
       "<p>150 rows × 5 columns</p>\n",
       "</div>"
      ],
      "text/plain": [
       "     sepal.length  sepal.width  petal.length  petal.width    variety\n",
       "0             5.1          3.5           1.4          0.2     Setosa\n",
       "1             4.9          3.0           1.4          0.2     Setosa\n",
       "2             4.7          3.2           1.3          0.2     Setosa\n",
       "3             4.6          3.1           1.5          0.2     Setosa\n",
       "4             5.0          3.6           1.4          0.2     Setosa\n",
       "..            ...          ...           ...          ...        ...\n",
       "145           6.7          3.0           5.2          2.3  Virginica\n",
       "146           6.3          2.5           5.0          1.9  Virginica\n",
       "147           6.5          3.0           5.2          2.0  Virginica\n",
       "148           6.2          3.4           5.4          2.3  Virginica\n",
       "149           5.9          3.0           5.1          1.8  Virginica\n",
       "\n",
       "[150 rows x 5 columns]"
      ]
     },
     "execution_count": 2,
     "metadata": {},
     "output_type": "execute_result"
    }
   ],
   "source": [
    "df = pd.read_csv('Iris.csv')\n",
    "df"
   ]
  },
  {
   "cell_type": "code",
   "execution_count": 3,
   "metadata": {},
   "outputs": [
    {
     "name": "stdout",
     "output_type": "stream",
     "text": [
      "<class 'pandas.core.frame.DataFrame'>\n",
      "RangeIndex: 150 entries, 0 to 149\n",
      "Data columns (total 5 columns):\n",
      " #   Column        Non-Null Count  Dtype  \n",
      "---  ------        --------------  -----  \n",
      " 0   sepal.length  150 non-null    float64\n",
      " 1   sepal.width   150 non-null    float64\n",
      " 2   petal.length  150 non-null    float64\n",
      " 3   petal.width   150 non-null    float64\n",
      " 4   variety       150 non-null    object \n",
      "dtypes: float64(4), object(1)\n",
      "memory usage: 6.0+ KB\n"
     ]
    }
   ],
   "source": [
    "df.info()"
   ]
  },
  {
   "cell_type": "code",
   "execution_count": 4,
   "metadata": {},
   "outputs": [
    {
     "data": {
      "text/html": [
       "<div>\n",
       "<style scoped>\n",
       "    .dataframe tbody tr th:only-of-type {\n",
       "        vertical-align: middle;\n",
       "    }\n",
       "\n",
       "    .dataframe tbody tr th {\n",
       "        vertical-align: top;\n",
       "    }\n",
       "\n",
       "    .dataframe thead th {\n",
       "        text-align: right;\n",
       "    }\n",
       "</style>\n",
       "<table border=\"1\" class=\"dataframe\">\n",
       "  <thead>\n",
       "    <tr style=\"text-align: right;\">\n",
       "      <th></th>\n",
       "      <th>sepal.length</th>\n",
       "      <th>sepal.width</th>\n",
       "      <th>petal.length</th>\n",
       "      <th>petal.width</th>\n",
       "    </tr>\n",
       "  </thead>\n",
       "  <tbody>\n",
       "    <tr>\n",
       "      <th>count</th>\n",
       "      <td>150.000000</td>\n",
       "      <td>150.000000</td>\n",
       "      <td>150.000000</td>\n",
       "      <td>150.000000</td>\n",
       "    </tr>\n",
       "    <tr>\n",
       "      <th>mean</th>\n",
       "      <td>5.843333</td>\n",
       "      <td>3.057333</td>\n",
       "      <td>3.758000</td>\n",
       "      <td>1.199333</td>\n",
       "    </tr>\n",
       "    <tr>\n",
       "      <th>std</th>\n",
       "      <td>0.828066</td>\n",
       "      <td>0.435866</td>\n",
       "      <td>1.765298</td>\n",
       "      <td>0.762238</td>\n",
       "    </tr>\n",
       "    <tr>\n",
       "      <th>min</th>\n",
       "      <td>4.300000</td>\n",
       "      <td>2.000000</td>\n",
       "      <td>1.000000</td>\n",
       "      <td>0.100000</td>\n",
       "    </tr>\n",
       "    <tr>\n",
       "      <th>25%</th>\n",
       "      <td>5.100000</td>\n",
       "      <td>2.800000</td>\n",
       "      <td>1.600000</td>\n",
       "      <td>0.300000</td>\n",
       "    </tr>\n",
       "    <tr>\n",
       "      <th>50%</th>\n",
       "      <td>5.800000</td>\n",
       "      <td>3.000000</td>\n",
       "      <td>4.350000</td>\n",
       "      <td>1.300000</td>\n",
       "    </tr>\n",
       "    <tr>\n",
       "      <th>75%</th>\n",
       "      <td>6.400000</td>\n",
       "      <td>3.300000</td>\n",
       "      <td>5.100000</td>\n",
       "      <td>1.800000</td>\n",
       "    </tr>\n",
       "    <tr>\n",
       "      <th>max</th>\n",
       "      <td>7.900000</td>\n",
       "      <td>4.400000</td>\n",
       "      <td>6.900000</td>\n",
       "      <td>2.500000</td>\n",
       "    </tr>\n",
       "  </tbody>\n",
       "</table>\n",
       "</div>"
      ],
      "text/plain": [
       "       sepal.length  sepal.width  petal.length  petal.width\n",
       "count    150.000000   150.000000    150.000000   150.000000\n",
       "mean       5.843333     3.057333      3.758000     1.199333\n",
       "std        0.828066     0.435866      1.765298     0.762238\n",
       "min        4.300000     2.000000      1.000000     0.100000\n",
       "25%        5.100000     2.800000      1.600000     0.300000\n",
       "50%        5.800000     3.000000      4.350000     1.300000\n",
       "75%        6.400000     3.300000      5.100000     1.800000\n",
       "max        7.900000     4.400000      6.900000     2.500000"
      ]
     },
     "execution_count": 4,
     "metadata": {},
     "output_type": "execute_result"
    }
   ],
   "source": [
    "df.describe()"
   ]
  },
  {
   "cell_type": "code",
   "execution_count": 5,
   "metadata": {},
   "outputs": [
    {
     "data": {
      "text/plain": [
       "array(['Setosa', 'Versicolor', 'Virginica'], dtype=object)"
      ]
     },
     "execution_count": 5,
     "metadata": {},
     "output_type": "execute_result"
    }
   ],
   "source": [
    "df['variety'].unique()"
   ]
  },
  {
   "cell_type": "code",
   "execution_count": 6,
   "metadata": {},
   "outputs": [
    {
     "data": {
      "text/html": [
       "<div>\n",
       "<style scoped>\n",
       "    .dataframe tbody tr th:only-of-type {\n",
       "        vertical-align: middle;\n",
       "    }\n",
       "\n",
       "    .dataframe tbody tr th {\n",
       "        vertical-align: top;\n",
       "    }\n",
       "\n",
       "    .dataframe thead th {\n",
       "        text-align: right;\n",
       "    }\n",
       "</style>\n",
       "<table border=\"1\" class=\"dataframe\">\n",
       "  <thead>\n",
       "    <tr style=\"text-align: right;\">\n",
       "      <th></th>\n",
       "      <th>sepal.length</th>\n",
       "      <th>sepal.width</th>\n",
       "      <th>petal.length</th>\n",
       "      <th>petal.width</th>\n",
       "      <th>variety_Setosa</th>\n",
       "      <th>variety_Versicolor</th>\n",
       "      <th>variety_Virginica</th>\n",
       "    </tr>\n",
       "  </thead>\n",
       "  <tbody>\n",
       "    <tr>\n",
       "      <th>0</th>\n",
       "      <td>5.1</td>\n",
       "      <td>3.5</td>\n",
       "      <td>1.4</td>\n",
       "      <td>0.2</td>\n",
       "      <td>1</td>\n",
       "      <td>0</td>\n",
       "      <td>0</td>\n",
       "    </tr>\n",
       "    <tr>\n",
       "      <th>1</th>\n",
       "      <td>4.9</td>\n",
       "      <td>3.0</td>\n",
       "      <td>1.4</td>\n",
       "      <td>0.2</td>\n",
       "      <td>1</td>\n",
       "      <td>0</td>\n",
       "      <td>0</td>\n",
       "    </tr>\n",
       "    <tr>\n",
       "      <th>2</th>\n",
       "      <td>4.7</td>\n",
       "      <td>3.2</td>\n",
       "      <td>1.3</td>\n",
       "      <td>0.2</td>\n",
       "      <td>1</td>\n",
       "      <td>0</td>\n",
       "      <td>0</td>\n",
       "    </tr>\n",
       "    <tr>\n",
       "      <th>3</th>\n",
       "      <td>4.6</td>\n",
       "      <td>3.1</td>\n",
       "      <td>1.5</td>\n",
       "      <td>0.2</td>\n",
       "      <td>1</td>\n",
       "      <td>0</td>\n",
       "      <td>0</td>\n",
       "    </tr>\n",
       "    <tr>\n",
       "      <th>4</th>\n",
       "      <td>5.0</td>\n",
       "      <td>3.6</td>\n",
       "      <td>1.4</td>\n",
       "      <td>0.2</td>\n",
       "      <td>1</td>\n",
       "      <td>0</td>\n",
       "      <td>0</td>\n",
       "    </tr>\n",
       "    <tr>\n",
       "      <th>...</th>\n",
       "      <td>...</td>\n",
       "      <td>...</td>\n",
       "      <td>...</td>\n",
       "      <td>...</td>\n",
       "      <td>...</td>\n",
       "      <td>...</td>\n",
       "      <td>...</td>\n",
       "    </tr>\n",
       "    <tr>\n",
       "      <th>145</th>\n",
       "      <td>6.7</td>\n",
       "      <td>3.0</td>\n",
       "      <td>5.2</td>\n",
       "      <td>2.3</td>\n",
       "      <td>0</td>\n",
       "      <td>0</td>\n",
       "      <td>1</td>\n",
       "    </tr>\n",
       "    <tr>\n",
       "      <th>146</th>\n",
       "      <td>6.3</td>\n",
       "      <td>2.5</td>\n",
       "      <td>5.0</td>\n",
       "      <td>1.9</td>\n",
       "      <td>0</td>\n",
       "      <td>0</td>\n",
       "      <td>1</td>\n",
       "    </tr>\n",
       "    <tr>\n",
       "      <th>147</th>\n",
       "      <td>6.5</td>\n",
       "      <td>3.0</td>\n",
       "      <td>5.2</td>\n",
       "      <td>2.0</td>\n",
       "      <td>0</td>\n",
       "      <td>0</td>\n",
       "      <td>1</td>\n",
       "    </tr>\n",
       "    <tr>\n",
       "      <th>148</th>\n",
       "      <td>6.2</td>\n",
       "      <td>3.4</td>\n",
       "      <td>5.4</td>\n",
       "      <td>2.3</td>\n",
       "      <td>0</td>\n",
       "      <td>0</td>\n",
       "      <td>1</td>\n",
       "    </tr>\n",
       "    <tr>\n",
       "      <th>149</th>\n",
       "      <td>5.9</td>\n",
       "      <td>3.0</td>\n",
       "      <td>5.1</td>\n",
       "      <td>1.8</td>\n",
       "      <td>0</td>\n",
       "      <td>0</td>\n",
       "      <td>1</td>\n",
       "    </tr>\n",
       "  </tbody>\n",
       "</table>\n",
       "<p>150 rows × 7 columns</p>\n",
       "</div>"
      ],
      "text/plain": [
       "     sepal.length  sepal.width  petal.length  petal.width  variety_Setosa  \\\n",
       "0             5.1          3.5           1.4          0.2               1   \n",
       "1             4.9          3.0           1.4          0.2               1   \n",
       "2             4.7          3.2           1.3          0.2               1   \n",
       "3             4.6          3.1           1.5          0.2               1   \n",
       "4             5.0          3.6           1.4          0.2               1   \n",
       "..            ...          ...           ...          ...             ...   \n",
       "145           6.7          3.0           5.2          2.3               0   \n",
       "146           6.3          2.5           5.0          1.9               0   \n",
       "147           6.5          3.0           5.2          2.0               0   \n",
       "148           6.2          3.4           5.4          2.3               0   \n",
       "149           5.9          3.0           5.1          1.8               0   \n",
       "\n",
       "     variety_Versicolor  variety_Virginica  \n",
       "0                     0                  0  \n",
       "1                     0                  0  \n",
       "2                     0                  0  \n",
       "3                     0                  0  \n",
       "4                     0                  0  \n",
       "..                  ...                ...  \n",
       "145                   0                  1  \n",
       "146                   0                  1  \n",
       "147                   0                  1  \n",
       "148                   0                  1  \n",
       "149                   0                  1  \n",
       "\n",
       "[150 rows x 7 columns]"
      ]
     },
     "execution_count": 6,
     "metadata": {},
     "output_type": "execute_result"
    }
   ],
   "source": [
    "df = pd.get_dummies(df, columns=['variety'])\n",
    "df"
   ]
  },
  {
   "cell_type": "code",
   "execution_count": 7,
   "metadata": {},
   "outputs": [],
   "source": [
    "x = df[['sepal.length', 'sepal.width', 'petal.length', 'petal.width']]\n",
    "y = df[['variety_Setosa', 'variety_Versicolor', 'variety_Virginica']]"
   ]
  },
  {
   "cell_type": "code",
   "execution_count": 8,
   "metadata": {},
   "outputs": [],
   "source": [
    "from sklearn.model_selection import train_test_split"
   ]
  },
  {
   "cell_type": "code",
   "execution_count": 9,
   "metadata": {},
   "outputs": [],
   "source": [
    "x_train, x_test, y_train, y_test = train_test_split(x, y, test_size = 0.2, random_state=42)"
   ]
  },
  {
   "cell_type": "code",
   "execution_count": 10,
   "metadata": {},
   "outputs": [],
   "source": [
    "from sklearn.preprocessing import StandardScaler\n",
    "\n",
    "sc = StandardScaler()\n",
    "sc.fit(x_train)\n",
    "x_train = sc.transform(x_train)\n",
    "x_test = sc.transform(x_test)"
   ]
  },
  {
   "cell_type": "code",
   "execution_count": 11,
   "metadata": {},
   "outputs": [],
   "source": [
    "from tensorflow.keras.models import Sequential\n",
    "from tensorflow.keras.layers import Dense, Dropout\n",
    "from tensorflow.keras.optimizers import Adam\n",
    "from tensorflow.keras.callbacks import ReduceLROnPlateau, ModelCheckpoint, EarlyStopping"
   ]
  },
  {
   "cell_type": "code",
   "execution_count": 12,
   "metadata": {},
   "outputs": [
    {
     "data": {
      "text/plain": [
       "(150, 4)"
      ]
     },
     "execution_count": 12,
     "metadata": {},
     "output_type": "execute_result"
    }
   ],
   "source": [
    "x.shape"
   ]
  },
  {
   "cell_type": "code",
   "execution_count": 13,
   "metadata": {},
   "outputs": [
    {
     "data": {
      "text/plain": [
       "4"
      ]
     },
     "execution_count": 13,
     "metadata": {},
     "output_type": "execute_result"
    }
   ],
   "source": [
    "x.shape[1]"
   ]
  },
  {
   "cell_type": "code",
   "execution_count": 14,
   "metadata": {},
   "outputs": [
    {
     "data": {
      "text/plain": [
       "(150, 3)"
      ]
     },
     "execution_count": 14,
     "metadata": {},
     "output_type": "execute_result"
    }
   ],
   "source": [
    "y.shape"
   ]
  },
  {
   "cell_type": "code",
   "execution_count": 15,
   "metadata": {},
   "outputs": [
    {
     "data": {
      "text/plain": [
       "3"
      ]
     },
     "execution_count": 15,
     "metadata": {},
     "output_type": "execute_result"
    }
   ],
   "source": [
    "y.shape[1]"
   ]
  },
  {
   "cell_type": "markdown",
   "metadata": {},
   "source": [
    "## Defining the model structure"
   ]
  },
  {
   "cell_type": "code",
   "execution_count": 16,
   "metadata": {},
   "outputs": [],
   "source": [
    "model = Sequential()\n",
    "model.add(Dense(512, input_shape=[x.shape[1]], activation='relu'))\n",
    "model.add(Dense(y.shape[1], activation='softmax'))"
   ]
  },
  {
   "cell_type": "code",
   "execution_count": 17,
   "metadata": {},
   "outputs": [
    {
     "name": "stdout",
     "output_type": "stream",
     "text": [
      "Model: \"sequential\"\n",
      "_________________________________________________________________\n",
      "Layer (type)                 Output Shape              Param #   \n",
      "=================================================================\n",
      "dense (Dense)                (None, 512)               2560      \n",
      "_________________________________________________________________\n",
      "dense_1 (Dense)              (None, 3)                 1539      \n",
      "=================================================================\n",
      "Total params: 4,099\n",
      "Trainable params: 4,099\n",
      "Non-trainable params: 0\n",
      "_________________________________________________________________\n"
     ]
    }
   ],
   "source": [
    "model.summary()"
   ]
  },
  {
   "cell_type": "code",
   "execution_count": 18,
   "metadata": {},
   "outputs": [],
   "source": [
    "model.compile(optimizer=Adam(), loss='categorical_crossentropy', metrics=['accuracy'])"
   ]
  },
  {
   "cell_type": "code",
   "execution_count": 19,
   "metadata": {},
   "outputs": [],
   "source": [
    "lrd = ReduceLROnPlateau(monitor = 'val_loss',\n",
    "                         patience = 200,\n",
    "                         verbose = 1,\n",
    "                         factor = 0.75,\n",
    "                         min_lr = 1e-10)\n",
    "\n",
    "mcp = ModelCheckpoint('model.h5')\n",
    "\n",
    "es = EarlyStopping(verbose=1, patience=600)"
   ]
  },
  {
   "cell_type": "markdown",
   "metadata": {},
   "source": [
    "## Training the model"
   ]
  },
  {
   "cell_type": "code",
   "execution_count": 20,
   "metadata": {
    "scrolled": true
   },
   "outputs": [
    {
     "name": "stdout",
     "output_type": "stream",
     "text": [
      "Train on 108 samples, validate on 12 samples\n",
      "Epoch 1/100\n",
      "108/108 [==============================] - 1s 6ms/sample - loss: 1.0517 - accuracy: 0.3704 - val_loss: 1.0097 - val_accuracy: 0.4167\n",
      "Epoch 2/100\n",
      "108/108 [==============================] - 0s 333us/sample - loss: 0.8710 - accuracy: 0.7037 - val_loss: 0.8988 - val_accuracy: 0.6667\n",
      "Epoch 3/100\n",
      "108/108 [==============================] - 0s 306us/sample - loss: 0.7441 - accuracy: 0.7593 - val_loss: 0.8095 - val_accuracy: 0.6667\n",
      "Epoch 4/100\n",
      "108/108 [==============================] - 0s 334us/sample - loss: 0.6434 - accuracy: 0.7778 - val_loss: 0.7396 - val_accuracy: 0.6667\n",
      "Epoch 5/100\n",
      "108/108 [==============================] - 0s 334us/sample - loss: 0.5690 - accuracy: 0.8148 - val_loss: 0.6829 - val_accuracy: 0.7500\n",
      "Epoch 6/100\n",
      "108/108 [==============================] - 0s 334us/sample - loss: 0.5149 - accuracy: 0.8241 - val_loss: 0.6369 - val_accuracy: 0.7500\n",
      "Epoch 7/100\n",
      "108/108 [==============================] - 0s 352us/sample - loss: 0.4744 - accuracy: 0.8148 - val_loss: 0.5984 - val_accuracy: 0.7500\n",
      "Epoch 8/100\n",
      "108/108 [==============================] - 0s 324us/sample - loss: 0.4406 - accuracy: 0.8148 - val_loss: 0.5674 - val_accuracy: 0.8333\n",
      "Epoch 9/100\n",
      "108/108 [==============================] - 0s 352us/sample - loss: 0.4154 - accuracy: 0.8148 - val_loss: 0.5401 - val_accuracy: 0.8333\n",
      "Epoch 10/100\n",
      "108/108 [==============================] - 0s 333us/sample - loss: 0.3925 - accuracy: 0.8241 - val_loss: 0.5181 - val_accuracy: 0.8333\n",
      "Epoch 11/100\n",
      "108/108 [==============================] - 0s 343us/sample - loss: 0.3724 - accuracy: 0.8241 - val_loss: 0.5001 - val_accuracy: 0.8333\n",
      "Epoch 12/100\n",
      "108/108 [==============================] - ETA: 0s - loss: 0.3213 - accuracy: 0.87 - 0s 324us/sample - loss: 0.3549 - accuracy: 0.8426 - val_loss: 0.4877 - val_accuracy: 0.8333\n",
      "Epoch 13/100\n",
      "108/108 [==============================] - 0s 306us/sample - loss: 0.3407 - accuracy: 0.8333 - val_loss: 0.4780 - val_accuracy: 0.9167\n",
      "Epoch 14/100\n",
      "108/108 [==============================] - 0s 306us/sample - loss: 0.3273 - accuracy: 0.8426 - val_loss: 0.4650 - val_accuracy: 0.9167\n",
      "Epoch 15/100\n",
      "108/108 [==============================] - 0s 306us/sample - loss: 0.3152 - accuracy: 0.8704 - val_loss: 0.4534 - val_accuracy: 0.9167\n",
      "Epoch 16/100\n",
      "108/108 [==============================] - 2s 15ms/sample - loss: 0.3038 - accuracy: 0.8704 - val_loss: 0.4406 - val_accuracy: 0.9167\n",
      "Epoch 17/100\n",
      "108/108 [==============================] - 0s 311us/sample - loss: 0.2929 - accuracy: 0.8796 - val_loss: 0.4269 - val_accuracy: 0.9167\n",
      "Epoch 18/100\n",
      "108/108 [==============================] - 0s 343us/sample - loss: 0.2818 - accuracy: 0.8889 - val_loss: 0.4106 - val_accuracy: 0.9167\n",
      "Epoch 19/100\n",
      "108/108 [==============================] - 0s 315us/sample - loss: 0.2741 - accuracy: 0.8796 - val_loss: 0.3946 - val_accuracy: 0.9167\n",
      "Epoch 20/100\n",
      "108/108 [==============================] - 0s 333us/sample - loss: 0.2655 - accuracy: 0.8704 - val_loss: 0.3834 - val_accuracy: 0.9167\n",
      "Epoch 21/100\n",
      "108/108 [==============================] - 0s 324us/sample - loss: 0.2559 - accuracy: 0.9074 - val_loss: 0.3728 - val_accuracy: 0.9167\n",
      "Epoch 22/100\n",
      "108/108 [==============================] - 0s 324us/sample - loss: 0.2472 - accuracy: 0.9167 - val_loss: 0.3640 - val_accuracy: 0.9167\n",
      "Epoch 23/100\n",
      "108/108 [==============================] - 0s 315us/sample - loss: 0.2382 - accuracy: 0.9167 - val_loss: 0.3593 - val_accuracy: 0.9167\n",
      "Epoch 24/100\n",
      "108/108 [==============================] - 0s 324us/sample - loss: 0.2296 - accuracy: 0.9352 - val_loss: 0.3499 - val_accuracy: 0.9167\n",
      "Epoch 25/100\n",
      "108/108 [==============================] - 0s 343us/sample - loss: 0.2222 - accuracy: 0.9630 - val_loss: 0.3414 - val_accuracy: 0.9167\n",
      "Epoch 26/100\n",
      "108/108 [==============================] - 0s 324us/sample - loss: 0.2137 - accuracy: 0.9630 - val_loss: 0.3312 - val_accuracy: 0.9167\n",
      "Epoch 27/100\n",
      "108/108 [==============================] - 0s 324us/sample - loss: 0.2066 - accuracy: 0.9630 - val_loss: 0.3205 - val_accuracy: 0.9167\n",
      "Epoch 28/100\n",
      "108/108 [==============================] - 0s 315us/sample - loss: 0.1999 - accuracy: 0.9537 - val_loss: 0.3082 - val_accuracy: 0.9167\n",
      "Epoch 29/100\n",
      "108/108 [==============================] - 0s 356us/sample - loss: 0.1936 - accuracy: 0.9537 - val_loss: 0.3004 - val_accuracy: 0.9167\n",
      "Epoch 30/100\n",
      "108/108 [==============================] - ETA: 0s - loss: 0.2027 - accuracy: 0.96 - 0s 305us/sample - loss: 0.1867 - accuracy: 0.9537 - val_loss: 0.2935 - val_accuracy: 0.9167\n",
      "Epoch 31/100\n",
      "108/108 [==============================] - 0s 311us/sample - loss: 0.1793 - accuracy: 0.9537 - val_loss: 0.2902 - val_accuracy: 0.9167\n",
      "Epoch 32/100\n",
      "108/108 [==============================] - 0s 306us/sample - loss: 0.1725 - accuracy: 0.9630 - val_loss: 0.2886 - val_accuracy: 0.9167\n",
      "Epoch 33/100\n",
      "108/108 [==============================] - 0s 306us/sample - loss: 0.1663 - accuracy: 0.9630 - val_loss: 0.2811 - val_accuracy: 0.9167\n",
      "Epoch 34/100\n",
      "108/108 [==============================] - 0s 315us/sample - loss: 0.1625 - accuracy: 0.9537 - val_loss: 0.2728 - val_accuracy: 0.9167\n",
      "Epoch 35/100\n",
      "108/108 [==============================] - 0s 269us/sample - loss: 0.1561 - accuracy: 0.9537 - val_loss: 0.2727 - val_accuracy: 0.9167\n",
      "Epoch 36/100\n",
      "108/108 [==============================] - 0s 306us/sample - loss: 0.1504 - accuracy: 0.9630 - val_loss: 0.2670 - val_accuracy: 0.9167\n",
      "Epoch 37/100\n",
      "108/108 [==============================] - 0s 296us/sample - loss: 0.1452 - accuracy: 0.9537 - val_loss: 0.2594 - val_accuracy: 0.9167\n",
      "Epoch 38/100\n",
      "108/108 [==============================] - 0s 315us/sample - loss: 0.1413 - accuracy: 0.9630 - val_loss: 0.2496 - val_accuracy: 0.9167\n",
      "Epoch 39/100\n",
      "108/108 [==============================] - 0s 287us/sample - loss: 0.1374 - accuracy: 0.9630 - val_loss: 0.2438 - val_accuracy: 0.9167\n",
      "Epoch 40/100\n",
      "108/108 [==============================] - 0s 296us/sample - loss: 0.1338 - accuracy: 0.9630 - val_loss: 0.2438 - val_accuracy: 0.9167\n",
      "Epoch 41/100\n",
      "108/108 [==============================] - 0s 306us/sample - loss: 0.1288 - accuracy: 0.9630 - val_loss: 0.2400 - val_accuracy: 0.9167\n",
      "Epoch 42/100\n",
      "108/108 [==============================] - 0s 287us/sample - loss: 0.1249 - accuracy: 0.9630 - val_loss: 0.2419 - val_accuracy: 0.9167\n",
      "Epoch 43/100\n",
      "108/108 [==============================] - 0s 306us/sample - loss: 0.1220 - accuracy: 0.9630 - val_loss: 0.2438 - val_accuracy: 0.9167\n",
      "Epoch 44/100\n",
      "108/108 [==============================] - 0s 287us/sample - loss: 0.1194 - accuracy: 0.9630 - val_loss: 0.2407 - val_accuracy: 0.9167\n",
      "Epoch 45/100\n",
      "108/108 [==============================] - 0s 278us/sample - loss: 0.1155 - accuracy: 0.9630 - val_loss: 0.2320 - val_accuracy: 0.9167\n",
      "Epoch 46/100\n",
      "108/108 [==============================] - 0s 285us/sample - loss: 0.1127 - accuracy: 0.9630 - val_loss: 0.2258 - val_accuracy: 0.9167\n",
      "Epoch 47/100\n",
      "108/108 [==============================] - 0s 287us/sample - loss: 0.1098 - accuracy: 0.9630 - val_loss: 0.2243 - val_accuracy: 0.9167\n",
      "Epoch 48/100\n",
      "108/108 [==============================] - 0s 287us/sample - loss: 0.1068 - accuracy: 0.9630 - val_loss: 0.2150 - val_accuracy: 0.9167\n",
      "Epoch 49/100\n",
      "108/108 [==============================] - 0s 287us/sample - loss: 0.1049 - accuracy: 0.9630 - val_loss: 0.2110 - val_accuracy: 0.9167\n",
      "Epoch 50/100\n",
      "108/108 [==============================] - 0s 306us/sample - loss: 0.1033 - accuracy: 0.9630 - val_loss: 0.2115 - val_accuracy: 0.9167\n",
      "Epoch 51/100\n",
      "108/108 [==============================] - 0s 305us/sample - loss: 0.1001 - accuracy: 0.9630 - val_loss: 0.2196 - val_accuracy: 0.9167\n",
      "Epoch 52/100\n",
      "108/108 [==============================] - 0s 278us/sample - loss: 0.0988 - accuracy: 0.9630 - val_loss: 0.2308 - val_accuracy: 0.9167\n",
      "Epoch 53/100\n",
      "108/108 [==============================] - 0s 287us/sample - loss: 0.0966 - accuracy: 0.9722 - val_loss: 0.2310 - val_accuracy: 0.9167\n",
      "Epoch 54/100\n",
      "108/108 [==============================] - 0s 306us/sample - loss: 0.0951 - accuracy: 0.9722 - val_loss: 0.2310 - val_accuracy: 0.9167\n",
      "Epoch 55/100\n"
     ]
    },
    {
     "name": "stdout",
     "output_type": "stream",
     "text": [
      "108/108 [==============================] - 0s 287us/sample - loss: 0.0937 - accuracy: 0.9722 - val_loss: 0.2339 - val_accuracy: 0.9167\n",
      "Epoch 56/100\n",
      "108/108 [==============================] - 0s 287us/sample - loss: 0.0909 - accuracy: 0.9630 - val_loss: 0.2239 - val_accuracy: 0.9167\n",
      "Epoch 57/100\n",
      "108/108 [==============================] - 0s 306us/sample - loss: 0.0889 - accuracy: 0.9722 - val_loss: 0.2150 - val_accuracy: 0.9167\n",
      "Epoch 58/100\n",
      "108/108 [==============================] - 0s 296us/sample - loss: 0.0889 - accuracy: 0.9722 - val_loss: 0.2087 - val_accuracy: 0.9167\n",
      "Epoch 59/100\n",
      "108/108 [==============================] - 0s 297us/sample - loss: 0.0868 - accuracy: 0.9722 - val_loss: 0.2193 - val_accuracy: 0.9167\n",
      "Epoch 60/100\n",
      "108/108 [==============================] - 0s 306us/sample - loss: 0.0851 - accuracy: 0.9722 - val_loss: 0.2275 - val_accuracy: 0.9167\n",
      "Epoch 61/100\n",
      "108/108 [==============================] - ETA: 0s - loss: 0.1490 - accuracy: 0.90 - 0s 306us/sample - loss: 0.0842 - accuracy: 0.9630 - val_loss: 0.2341 - val_accuracy: 0.9167\n",
      "Epoch 62/100\n",
      "108/108 [==============================] - 0s 315us/sample - loss: 0.0840 - accuracy: 0.9722 - val_loss: 0.2305 - val_accuracy: 0.9167\n",
      "Epoch 63/100\n",
      "108/108 [==============================] - 0s 306us/sample - loss: 0.0823 - accuracy: 0.9722 - val_loss: 0.2282 - val_accuracy: 0.9167\n",
      "Epoch 64/100\n",
      "108/108 [==============================] - 0s 306us/sample - loss: 0.0819 - accuracy: 0.9630 - val_loss: 0.2160 - val_accuracy: 0.9167\n",
      "Epoch 65/100\n",
      "108/108 [==============================] - 0s 306us/sample - loss: 0.0799 - accuracy: 0.9722 - val_loss: 0.2097 - val_accuracy: 0.9167\n",
      "Epoch 66/100\n",
      "108/108 [==============================] - 0s 297us/sample - loss: 0.0789 - accuracy: 0.9722 - val_loss: 0.2067 - val_accuracy: 0.9167\n",
      "Epoch 67/100\n",
      "108/108 [==============================] - 0s 269us/sample - loss: 0.0780 - accuracy: 0.9722 - val_loss: 0.2045 - val_accuracy: 0.9167\n",
      "Epoch 68/100\n",
      "108/108 [==============================] - 0s 315us/sample - loss: 0.0775 - accuracy: 0.9722 - val_loss: 0.2018 - val_accuracy: 0.9167\n",
      "Epoch 69/100\n",
      "108/108 [==============================] - 0s 296us/sample - loss: 0.0768 - accuracy: 0.9722 - val_loss: 0.1975 - val_accuracy: 0.9167\n",
      "Epoch 70/100\n",
      "108/108 [==============================] - 0s 306us/sample - loss: 0.0762 - accuracy: 0.9722 - val_loss: 0.1923 - val_accuracy: 0.9167\n",
      "Epoch 71/100\n",
      "108/108 [==============================] - 0s 306us/sample - loss: 0.0752 - accuracy: 0.9722 - val_loss: 0.2020 - val_accuracy: 0.9167\n",
      "Epoch 72/100\n",
      "108/108 [==============================] - 0s 306us/sample - loss: 0.0739 - accuracy: 0.9722 - val_loss: 0.2044 - val_accuracy: 0.9167\n",
      "Epoch 73/100\n",
      "108/108 [==============================] - 0s 287us/sample - loss: 0.0742 - accuracy: 0.9630 - val_loss: 0.2167 - val_accuracy: 0.9167\n",
      "Epoch 74/100\n",
      "108/108 [==============================] - 0s 287us/sample - loss: 0.0733 - accuracy: 0.9630 - val_loss: 0.2168 - val_accuracy: 0.9167\n",
      "Epoch 75/100\n",
      "108/108 [==============================] - 0s 315us/sample - loss: 0.0719 - accuracy: 0.9722 - val_loss: 0.2082 - val_accuracy: 0.9167\n",
      "Epoch 76/100\n",
      "108/108 [==============================] - 0s 287us/sample - loss: 0.0707 - accuracy: 0.9630 - val_loss: 0.1993 - val_accuracy: 0.9167\n",
      "Epoch 77/100\n",
      "108/108 [==============================] - 0s 287us/sample - loss: 0.0716 - accuracy: 0.9722 - val_loss: 0.1897 - val_accuracy: 0.9167\n",
      "Epoch 78/100\n",
      "108/108 [==============================] - 0s 296us/sample - loss: 0.0704 - accuracy: 0.9722 - val_loss: 0.1952 - val_accuracy: 0.9167\n",
      "Epoch 79/100\n",
      "108/108 [==============================] - 0s 278us/sample - loss: 0.0695 - accuracy: 0.9630 - val_loss: 0.2058 - val_accuracy: 0.9167\n",
      "Epoch 80/100\n",
      "108/108 [==============================] - 0s 287us/sample - loss: 0.0686 - accuracy: 0.9630 - val_loss: 0.2063 - val_accuracy: 0.9167\n",
      "Epoch 81/100\n",
      "108/108 [==============================] - 0s 278us/sample - loss: 0.0684 - accuracy: 0.9630 - val_loss: 0.2057 - val_accuracy: 0.9167\n",
      "Epoch 82/100\n",
      "108/108 [==============================] - 0s 306us/sample - loss: 0.0672 - accuracy: 0.9630 - val_loss: 0.2156 - val_accuracy: 0.9167\n",
      "Epoch 83/100\n",
      "108/108 [==============================] - 0s 306us/sample - loss: 0.0672 - accuracy: 0.9630 - val_loss: 0.2211 - val_accuracy: 0.9167\n",
      "Epoch 84/100\n",
      "108/108 [==============================] - 0s 287us/sample - loss: 0.0686 - accuracy: 0.9815 - val_loss: 0.2312 - val_accuracy: 0.9167\n",
      "Epoch 85/100\n",
      "108/108 [==============================] - 0s 306us/sample - loss: 0.0674 - accuracy: 0.9815 - val_loss: 0.2238 - val_accuracy: 0.9167\n",
      "Epoch 86/100\n",
      "108/108 [==============================] - 0s 306us/sample - loss: 0.0666 - accuracy: 0.9722 - val_loss: 0.2089 - val_accuracy: 0.9167\n",
      "Epoch 87/100\n",
      "108/108 [==============================] - 0s 287us/sample - loss: 0.0657 - accuracy: 0.9630 - val_loss: 0.2018 - val_accuracy: 0.9167\n",
      "Epoch 88/100\n",
      "108/108 [==============================] - 0s 315us/sample - loss: 0.0648 - accuracy: 0.9722 - val_loss: 0.2010 - val_accuracy: 0.9167\n",
      "Epoch 89/100\n",
      "108/108 [==============================] - 0s 306us/sample - loss: 0.0642 - accuracy: 0.9722 - val_loss: 0.2008 - val_accuracy: 0.9167\n",
      "Epoch 90/100\n",
      "108/108 [==============================] - 0s 296us/sample - loss: 0.0639 - accuracy: 0.9630 - val_loss: 0.2043 - val_accuracy: 0.9167\n",
      "Epoch 91/100\n",
      "108/108 [==============================] - 0s 287us/sample - loss: 0.0637 - accuracy: 0.9630 - val_loss: 0.2067 - val_accuracy: 0.9167\n",
      "Epoch 92/100\n",
      "108/108 [==============================] - 0s 297us/sample - loss: 0.0633 - accuracy: 0.9630 - val_loss: 0.2043 - val_accuracy: 0.9167\n",
      "Epoch 93/100\n",
      "108/108 [==============================] - 0s 306us/sample - loss: 0.0627 - accuracy: 0.9722 - val_loss: 0.2073 - val_accuracy: 0.9167\n",
      "Epoch 94/100\n",
      "108/108 [==============================] - 0s 296us/sample - loss: 0.0620 - accuracy: 0.9630 - val_loss: 0.2230 - val_accuracy: 0.9167\n",
      "Epoch 95/100\n",
      "108/108 [==============================] - 0s 315us/sample - loss: 0.0624 - accuracy: 0.9722 - val_loss: 0.2287 - val_accuracy: 0.9167\n",
      "Epoch 96/100\n",
      "108/108 [==============================] - ETA: 0s - loss: 0.0814 - accuracy: 0.96 - 0s 297us/sample - loss: 0.0629 - accuracy: 0.9722 - val_loss: 0.2267 - val_accuracy: 0.9167\n",
      "Epoch 97/100\n",
      "108/108 [==============================] - 0s 306us/sample - loss: 0.0614 - accuracy: 0.9815 - val_loss: 0.2374 - val_accuracy: 0.9167\n",
      "Epoch 98/100\n",
      "108/108 [==============================] - 0s 287us/sample - loss: 0.0650 - accuracy: 0.9815 - val_loss: 0.2460 - val_accuracy: 0.9167\n",
      "Epoch 99/100\n",
      "108/108 [==============================] - 0s 278us/sample - loss: 0.0622 - accuracy: 0.9815 - val_loss: 0.2284 - val_accuracy: 0.9167\n",
      "Epoch 100/100\n",
      "108/108 [==============================] - 0s 296us/sample - loss: 0.0629 - accuracy: 0.9722 - val_loss: 0.2054 - val_accuracy: 0.9167\n"
     ]
    }
   ],
   "source": [
    "history = model.fit(x=x_train, y=y_train, epochs=100, callbacks=[lrd, mcp, es], batch_size=32, validation_split=0.1)"
   ]
  },
  {
   "cell_type": "markdown",
   "metadata": {},
   "source": [
    "## Testing & evaluating the model"
   ]
  },
  {
   "cell_type": "code",
   "execution_count": 21,
   "metadata": {
    "scrolled": true
   },
   "outputs": [
    {
     "data": {
      "text/plain": [
       "array([1, 0, 2, 1, 1, 0, 1, 2, 1, 1, 2, 0, 0, 0, 0, 1, 2, 1, 1, 2, 0, 2,\n",
       "       0, 2, 2, 2, 2, 2, 0, 0], dtype=int64)"
      ]
     },
     "execution_count": 21,
     "metadata": {},
     "output_type": "execute_result"
    }
   ],
   "source": [
    "y_pred = model.predict_classes(x_test)\n",
    "y_pred"
   ]
  },
  {
   "cell_type": "code",
   "execution_count": 22,
   "metadata": {},
   "outputs": [
    {
     "data": {
      "text/html": [
       "<div>\n",
       "<style scoped>\n",
       "    .dataframe tbody tr th:only-of-type {\n",
       "        vertical-align: middle;\n",
       "    }\n",
       "\n",
       "    .dataframe tbody tr th {\n",
       "        vertical-align: top;\n",
       "    }\n",
       "\n",
       "    .dataframe thead th {\n",
       "        text-align: right;\n",
       "    }\n",
       "</style>\n",
       "<table border=\"1\" class=\"dataframe\">\n",
       "  <thead>\n",
       "    <tr style=\"text-align: right;\">\n",
       "      <th></th>\n",
       "      <th>variety_Setosa</th>\n",
       "      <th>variety_Versicolor</th>\n",
       "      <th>variety_Virginica</th>\n",
       "    </tr>\n",
       "  </thead>\n",
       "  <tbody>\n",
       "    <tr>\n",
       "      <th>73</th>\n",
       "      <td>0</td>\n",
       "      <td>1</td>\n",
       "      <td>0</td>\n",
       "    </tr>\n",
       "    <tr>\n",
       "      <th>18</th>\n",
       "      <td>1</td>\n",
       "      <td>0</td>\n",
       "      <td>0</td>\n",
       "    </tr>\n",
       "    <tr>\n",
       "      <th>118</th>\n",
       "      <td>0</td>\n",
       "      <td>0</td>\n",
       "      <td>1</td>\n",
       "    </tr>\n",
       "    <tr>\n",
       "      <th>78</th>\n",
       "      <td>0</td>\n",
       "      <td>1</td>\n",
       "      <td>0</td>\n",
       "    </tr>\n",
       "    <tr>\n",
       "      <th>76</th>\n",
       "      <td>0</td>\n",
       "      <td>1</td>\n",
       "      <td>0</td>\n",
       "    </tr>\n",
       "    <tr>\n",
       "      <th>31</th>\n",
       "      <td>1</td>\n",
       "      <td>0</td>\n",
       "      <td>0</td>\n",
       "    </tr>\n",
       "    <tr>\n",
       "      <th>64</th>\n",
       "      <td>0</td>\n",
       "      <td>1</td>\n",
       "      <td>0</td>\n",
       "    </tr>\n",
       "    <tr>\n",
       "      <th>141</th>\n",
       "      <td>0</td>\n",
       "      <td>0</td>\n",
       "      <td>1</td>\n",
       "    </tr>\n",
       "    <tr>\n",
       "      <th>68</th>\n",
       "      <td>0</td>\n",
       "      <td>1</td>\n",
       "      <td>0</td>\n",
       "    </tr>\n",
       "    <tr>\n",
       "      <th>82</th>\n",
       "      <td>0</td>\n",
       "      <td>1</td>\n",
       "      <td>0</td>\n",
       "    </tr>\n",
       "    <tr>\n",
       "      <th>110</th>\n",
       "      <td>0</td>\n",
       "      <td>0</td>\n",
       "      <td>1</td>\n",
       "    </tr>\n",
       "    <tr>\n",
       "      <th>12</th>\n",
       "      <td>1</td>\n",
       "      <td>0</td>\n",
       "      <td>0</td>\n",
       "    </tr>\n",
       "    <tr>\n",
       "      <th>36</th>\n",
       "      <td>1</td>\n",
       "      <td>0</td>\n",
       "      <td>0</td>\n",
       "    </tr>\n",
       "    <tr>\n",
       "      <th>9</th>\n",
       "      <td>1</td>\n",
       "      <td>0</td>\n",
       "      <td>0</td>\n",
       "    </tr>\n",
       "    <tr>\n",
       "      <th>19</th>\n",
       "      <td>1</td>\n",
       "      <td>0</td>\n",
       "      <td>0</td>\n",
       "    </tr>\n",
       "    <tr>\n",
       "      <th>56</th>\n",
       "      <td>0</td>\n",
       "      <td>1</td>\n",
       "      <td>0</td>\n",
       "    </tr>\n",
       "    <tr>\n",
       "      <th>104</th>\n",
       "      <td>0</td>\n",
       "      <td>0</td>\n",
       "      <td>1</td>\n",
       "    </tr>\n",
       "    <tr>\n",
       "      <th>69</th>\n",
       "      <td>0</td>\n",
       "      <td>1</td>\n",
       "      <td>0</td>\n",
       "    </tr>\n",
       "    <tr>\n",
       "      <th>55</th>\n",
       "      <td>0</td>\n",
       "      <td>1</td>\n",
       "      <td>0</td>\n",
       "    </tr>\n",
       "    <tr>\n",
       "      <th>132</th>\n",
       "      <td>0</td>\n",
       "      <td>0</td>\n",
       "      <td>1</td>\n",
       "    </tr>\n",
       "    <tr>\n",
       "      <th>29</th>\n",
       "      <td>1</td>\n",
       "      <td>0</td>\n",
       "      <td>0</td>\n",
       "    </tr>\n",
       "    <tr>\n",
       "      <th>127</th>\n",
       "      <td>0</td>\n",
       "      <td>0</td>\n",
       "      <td>1</td>\n",
       "    </tr>\n",
       "    <tr>\n",
       "      <th>26</th>\n",
       "      <td>1</td>\n",
       "      <td>0</td>\n",
       "      <td>0</td>\n",
       "    </tr>\n",
       "    <tr>\n",
       "      <th>128</th>\n",
       "      <td>0</td>\n",
       "      <td>0</td>\n",
       "      <td>1</td>\n",
       "    </tr>\n",
       "    <tr>\n",
       "      <th>131</th>\n",
       "      <td>0</td>\n",
       "      <td>0</td>\n",
       "      <td>1</td>\n",
       "    </tr>\n",
       "    <tr>\n",
       "      <th>145</th>\n",
       "      <td>0</td>\n",
       "      <td>0</td>\n",
       "      <td>1</td>\n",
       "    </tr>\n",
       "    <tr>\n",
       "      <th>108</th>\n",
       "      <td>0</td>\n",
       "      <td>0</td>\n",
       "      <td>1</td>\n",
       "    </tr>\n",
       "    <tr>\n",
       "      <th>143</th>\n",
       "      <td>0</td>\n",
       "      <td>0</td>\n",
       "      <td>1</td>\n",
       "    </tr>\n",
       "    <tr>\n",
       "      <th>45</th>\n",
       "      <td>1</td>\n",
       "      <td>0</td>\n",
       "      <td>0</td>\n",
       "    </tr>\n",
       "    <tr>\n",
       "      <th>30</th>\n",
       "      <td>1</td>\n",
       "      <td>0</td>\n",
       "      <td>0</td>\n",
       "    </tr>\n",
       "  </tbody>\n",
       "</table>\n",
       "</div>"
      ],
      "text/plain": [
       "     variety_Setosa  variety_Versicolor  variety_Virginica\n",
       "73                0                   1                  0\n",
       "18                1                   0                  0\n",
       "118               0                   0                  1\n",
       "78                0                   1                  0\n",
       "76                0                   1                  0\n",
       "31                1                   0                  0\n",
       "64                0                   1                  0\n",
       "141               0                   0                  1\n",
       "68                0                   1                  0\n",
       "82                0                   1                  0\n",
       "110               0                   0                  1\n",
       "12                1                   0                  0\n",
       "36                1                   0                  0\n",
       "9                 1                   0                  0\n",
       "19                1                   0                  0\n",
       "56                0                   1                  0\n",
       "104               0                   0                  1\n",
       "69                0                   1                  0\n",
       "55                0                   1                  0\n",
       "132               0                   0                  1\n",
       "29                1                   0                  0\n",
       "127               0                   0                  1\n",
       "26                1                   0                  0\n",
       "128               0                   0                  1\n",
       "131               0                   0                  1\n",
       "145               0                   0                  1\n",
       "108               0                   0                  1\n",
       "143               0                   0                  1\n",
       "45                1                   0                  0\n",
       "30                1                   0                  0"
      ]
     },
     "execution_count": 22,
     "metadata": {},
     "output_type": "execute_result"
    }
   ],
   "source": [
    "y_test"
   ]
  },
  {
   "cell_type": "code",
   "execution_count": 23,
   "metadata": {},
   "outputs": [
    {
     "data": {
      "text/plain": [
       "2"
      ]
     },
     "execution_count": 23,
     "metadata": {},
     "output_type": "execute_result"
    }
   ],
   "source": [
    "model.predict_classes(x_test)[10]"
   ]
  },
  {
   "cell_type": "code",
   "execution_count": 24,
   "metadata": {},
   "outputs": [
    {
     "data": {
      "text/plain": [
       "variety_Setosa        0\n",
       "variety_Versicolor    0\n",
       "variety_Virginica     1\n",
       "Name: 110, dtype: uint8"
      ]
     },
     "execution_count": 24,
     "metadata": {},
     "output_type": "execute_result"
    }
   ],
   "source": [
    "y_test.iloc[10]"
   ]
  },
  {
   "cell_type": "code",
   "execution_count": 25,
   "metadata": {},
   "outputs": [
    {
     "name": "stdout",
     "output_type": "stream",
     "text": [
      "\r",
      "30/30 [==============================] - 0s 200us/sample - loss: 0.0406 - accuracy: 1.0000\n"
     ]
    },
    {
     "data": {
      "text/plain": [
       "[0.040591027587652206, 1.0]"
      ]
     },
     "execution_count": 25,
     "metadata": {},
     "output_type": "execute_result"
    }
   ],
   "source": [
    "model.evaluate(x_test, y_test)"
   ]
  },
  {
   "cell_type": "markdown",
   "metadata": {},
   "source": [
    "## Visualize Loss"
   ]
  },
  {
   "cell_type": "code",
   "execution_count": 26,
   "metadata": {},
   "outputs": [
    {
     "data": {
      "image/png": "[encoded data removed]",
      "text/plain": [
       "<Figure size 504x504 with 1 Axes>"
      ]
     },
     "metadata": {},
     "output_type": "display_data"
    },
    {
     "data": {
      "image/png": "[encoded data removed]",
      "text/plain": [
       "<Figure size 504x504 with 1 Axes>"
      ]
     },
     "metadata": {},
     "output_type": "display_data"
    }
   ],
   "source": [
    "# summarize history for loss\n",
    "plt.plot(history.history['loss'])\n",
    "plt.plot(history.history['val_loss'])\n",
    "plt.title('model loss')\n",
    "plt.ylabel('loss')\n",
    "plt.xlabel('epoch')\n",
    "plt.legend(['train', 'test'], loc='upper right')\n",
    "plt.show()\n",
    "\n",
    "# summarize history for accuracy\n",
    "plt.plot(history.history['accuracy'])\n",
    "plt.plot(history.history['val_accuracy'])\n",
    "plt.title('model accuracy')\n",
    "plt.ylabel('accuracy')\n",
    "plt.xlabel('epoch')\n",
    "plt.legend(['train', 'test'], loc='upper left')\n",
    "plt.show()"
   ]
  },
  {
   "cell_type": "markdown",
   "metadata": {},
   "source": [
    "## Saving the model"
   ]
  },
  {
   "cell_type": "code",
   "execution_count": 27,
   "metadata": {},
   "outputs": [],
   "source": [
    "model.save('model.h5')"
   ]
  },
  {
   "cell_type": "code",
   "execution_count": 28,
   "metadata": {},
   "outputs": [],
   "source": [
    "import joblib"
   ]
  },
  {
   "cell_type": "code",
   "execution_count": 29,
   "metadata": {},
   "outputs": [
    {
     "data": {
      "text/plain": [
       "['scaler.pkl']"
      ]
     },
     "execution_count": 29,
     "metadata": {},
     "output_type": "execute_result"
    }
   ],
   "source": [
    "joblib.dump(sc, 'scaler.pkl')"
   ]
  },
  {
   "cell_type": "markdown",
   "metadata": {},
   "source": [
    "## Loding Model"
   ]
  },
  {
   "cell_type": "code",
   "execution_count": 30,
   "metadata": {},
   "outputs": [],
   "source": [
    "sc = joblib.load('scaler.pkl')"
   ]
  },
  {
   "cell_type": "code",
   "execution_count": 31,
   "metadata": {},
   "outputs": [
    {
     "data": {
      "text/plain": [
       "array([2], dtype=int64)"
      ]
     },
     "execution_count": 31,
     "metadata": {},
     "output_type": "execute_result"
    }
   ],
   "source": [
    "from tensorflow.keras.models import load_model\n",
    "\n",
    "model = load_model('model.h5')\n",
    "model.predict_classes(sc.transform([[5, 4, 2, 4]]))"
   ]
  },
  {
   "cell_type": "markdown",
   "metadata": {},
   "source": [
    "# Great Work!"
   ]
  }
 ],
 "metadata": {
  "kernelspec": {
   "display_name": "Tensorflow GPU",
   "language": "python",
   "name": "tensorflow"
  },
  "language_info": {
   "codemirror_mode": {
    "name": "ipython",
    "version": 3
   },
   "file_extension": ".py",
   "mimetype": "text/x-python",
   "name": "python",
   "nbconvert_exporter": "python",
   "pygments_lexer": "ipython3",
   "version": "3.7.6"
  }
 },
 "nbformat": 4,
 "nbformat_minor": 4
}
